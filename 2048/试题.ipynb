{
 "cells": [
  {
   "cell_type": "markdown",
   "id": "cdd8c0d2",
   "metadata": {},
   "source": [
    "How many integers $k\\leq 2019$ are there such that $3^{a}+3^{b}+3^{c}=k$, where a, b, and c are integers?"
   ]
  },
  {
   "cell_type": "markdown",
   "id": "c88d7dea",
   "metadata": {},
   "source": [
    "在 $\\triangle A B C$ 中, $\\angle B=100^{\\circ}, \\angle C$ 的平分线交边 $A B$ 于点 $E$, 在边 $A C$ 上取点 $D$ ，使得 $\\angle C B D=20^{\\circ}$ ，连结 $D E$ ，求 $\\angle C E D$ 的度数。"
   ]
  },
  {
   "cell_type": "markdown",
   "id": "bfc8b4ac",
   "metadata": {},
   "source": [
    "设 $n\\in\\mathbb{Z} \\geqslant 3$，$a_1,a_2,\\cdots,a_n$ 为任意的和为整数的 n 个正实数，$b_1,b_2,\\cdots,b_n$ 是这  n  个数的一个排列。  \n",
    "若 $\\forall k = 1,2,\\cdots,n$，均有 $\\sum_{i = 1}^{k}b_i>0$，则称 $b_1,b_2,\\cdots,b_n$ 为一个“好排列”。求好排列个数最小值。"
   ]
  },
  {
   "cell_type": "markdown",
   "id": "a00e0cda",
   "metadata": {},
   "source": [
    "考虑所有只使用数字 1、2、3 组成的 6 位正整数(范围从 100000 到 999999)。将这些满足“仅含 1、2、3”的 6 位数的集合记为 S。  令 D = gcd(所有集合 S 中元素的和)。  求 D 的值。"
   ]
  },
  {
   "cell_type": "code",
   "execution_count": null,
   "id": "7ef58a4d",
   "metadata": {
    "vscode": {
     "languageId": "plaintext"
    }
   },
   "outputs": [],
   "source": []
  },
  {
   "cell_type": "markdown",
   "id": "29c045d1",
   "metadata": {},
   "source": []
  },
  {
   "cell_type": "markdown",
   "id": "2fa74202",
   "metadata": {},
   "source": []
  }
 ],
 "metadata": {
  "language_info": {
   "name": "python"
  }
 },
 "nbformat": 4,
 "nbformat_minor": 5
}
